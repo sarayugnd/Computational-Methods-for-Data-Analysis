{
 "cells": [
  {
   "cell_type": "markdown",
   "id": "4df7e296",
   "metadata": {},
   "source": [
    "**HOMEWORK 3: Classifying Digits**\n",
    "\n",
    "saru07g@uw.edu\n",
    "\n",
    "**Goal:** train a classifier to distinguish images of handwritten digits from the famous MNIST data set\n",
    "\n",
    "***Task 1*: You will need to reshape each image into a vector and stack the vectors into matrices 𝑋𝑡𝑟𝑎𝑖𝑛 and 𝑋𝑡𝑒𝑠𝑡\n",
    "respectively. Perform PCA analysis of the digit images in the train set. Plot the first 16 PC modes as\n",
    "28 × 28 images**"
   ]
  },
  {
   "cell_type": "code",
   "execution_count": 1,
   "id": "b6464c67",
   "metadata": {
    "tags": []
   },
   "outputs": [
    {
     "name": "stdout",
     "output_type": "stream",
     "text": [
      "(47040000,)\n"
     ]
    }
   ],
   "source": [
    "import struct \n",
    "import numpy as np\n",
    "import matplotlib.pyplot as plt\n",
    "from sklearn.decomposition import PCA\n",
    "\n",
    "#load data \n",
    "filename = {'images' : 'train-images.idx3-ubyte' ,'labels' : 'train-labels.idx1-ubyte'}\n",
    "filename2 = {'images_' : 't10k-images.idx3-ubyte', 'labels_' : 't10k-labels.idx1-ubyte'}\n",
    "\n",
    "#load and parse\n",
    "with open(filename['images'],'rb') as f:\n",
    "    magic, size = struct.unpack(\">II\", f.read(8))\n",
    "    nrows, ncols = struct.unpack(\">II\", f.read(8))\n",
    "    data = np.fromfile(f, dtype=np.dtype(np.uint8).newbyteorder('>'))\n",
    "    print(data.shape)\n",
    "    Xtraindata = np.transpose(data.reshape((size, nrows*ncols))) #reshape\n",
    "    \n",
    "with open(filename['labels'],'rb') as f:\n",
    "    magic, size = struct.unpack(\">II\", f.read(8))\n",
    "    data = np.fromfile(f, dtype=np.dtype(np.uint8).newbyteorder('>'))\n",
    "    ytrainlabels = data.reshape((size,))\n",
    "    \n",
    "with open(filename2['images_'],'rb') as f:\n",
    "    magic, size = struct.unpack(\">II\", f.read(8))\n",
    "    nrows, ncols = struct.unpack(\">II\", f.read(8))\n",
    "    data = np.fromfile(f, dtype=np.dtype(np.uint8).newbyteorder('>'))\n",
    "    Xtestdata = np.transpose(data.reshape((size, nrows*ncols))) #reshape\n",
    "\n",
    "with open(filename2['labels_'],'rb') as f:\n",
    "    magic, size = struct.unpack(\">II\", f.read(8))\n",
    "    data = np.fromfile(f, dtype=np.dtype(np.uint8).newbyteorder('>'))\n",
    "    ytestlabels = data.reshape((size,))\n",
    "    \n",
    "traindata_imgs =  np.transpose(Xtraindata).reshape((60000,28,28))    \n",
    "\n",
    "X_train_vectors = Xtraindata.T\n",
    "\n",
    "# Perform PCA on training set\n",
    "pca = PCA(n_components=784)\n",
    "X_train_pca = pca.fit_transform(X_train_vectors)\n",
    "\n",
    "#plotting images\n",
    "#def plot_pca_components(components, title):\n",
    "    #fig, ax = plt.subplots(4, 4, figsize=(8, 8))\n",
    "    \n",
    "    #for i in range(4):\n",
    "       #for j in range(4):\n",
    "            #ax[i, j].imshow(components[4*i + j].reshape((28, 28)), cmap='gray')\n",
    "           # ax[i, j].axis('off')\n",
    "   # fig.suptitle(title, fontsize=24)\n",
    "\n",
    "#plot_pca_components(pca.components_[:16], \"First 16 Principal Components\")\n"
   ]
  },
  {
   "cell_type": "markdown",
   "id": "8a490879",
   "metadata": {},
   "source": [
    "***Task 2*: Inspect the cumulative energy of the singular values and determine 𝑘: the number of PC modes needed\n",
    "to approximate 85% of the energy.**"
   ]
  },
  {
   "cell_type": "code",
   "execution_count": 2,
   "id": "0bec9e04",
   "metadata": {
    "tags": []
   },
   "outputs": [],
   "source": [
    "singular_values = pca.singular_values_\n",
    "\n",
    "# Calculate cumulative energy\n",
    "cumulative_energy = np.cumsum(singular_values ** 2) / np.sum(singular_values ** 2)\n",
    "\n",
    "# Determine k: number of PC modes needed to approximate 85% of the energy\n",
    "k = np.argmax(cumulative_energy >= 0.85) + 1  # Add 1 because indexing starts from 0\n",
    "\n",
    "#print(\"Number of PC modes needed to approximate 85% of the energy:\", k)\n",
    "\n",
    "# Plot cumulative energy\n",
    "#plt.plot(cumulative_energy)\n",
    "#plt.xlabel('Number of Principal Components')\n",
    "#plt.ylabel('Cumulative Energy')\n",
    "#plt.title('Cumulative Energy of Singular Values')\n",
    "#plt.axvline(x=k, color='r', linestyle='--', label=f'{k} PC modes')\n",
    "#plt.axhline(y=0.85, color='g', linestyle='--', label='85% energy')\n",
    "#plt.legend()\n",
    "#plt.show()"
   ]
  },
  {
   "cell_type": "markdown",
   "id": "38157b8f",
   "metadata": {},
   "source": [
    "**You may also want to inspect several approximated digit images\n",
    "reconstructed from 𝑘 truncated PC modes and plot them to make sure that the image reconstruction\n",
    "using truncated modes is reasonable.**"
   ]
  },
  {
   "cell_type": "code",
   "execution_count": 3,
   "id": "f690fb73",
   "metadata": {
    "tags": []
   },
   "outputs": [],
   "source": [
    "def plot_reconstructed_images(images, title):\n",
    "    fig, ax = plt.subplots(8, 8, figsize=(10, 10))\n",
    "    \n",
    "    for i in range(8):\n",
    "        for j in range(8):\n",
    "            ax[i, j].imshow(images[8*i + j].reshape((28, 28)), cmap='gray')\n",
    "            ax[i, j].axis('off')\n",
    "    fig.suptitle(title, fontsize=16)\n",
    "\n",
    "pca = PCA(n_components=59)\n",
    "X_train_pca = pca.fit_transform(X_train_vectors)\n",
    "\n",
    "# Reconstruct images using the truncated PC modes\n",
    "X_train_approx = pca.inverse_transform(X_train_pca)\n",
    "\n",
    "# Plot first 64 reconstructed images in an 8x8 grid\n",
    "#plot_reconstructed_images(X_train_approx[:64], \"First 64 Reconstructed Images with k=59\")\n",
    "#plt.show()\n"
   ]
  },
  {
   "cell_type": "markdown",
   "id": "f9e77544",
   "metadata": {},
   "source": [
    "***Task 3*: Write a function that selects a subset of particular digits (all samples of them) from 𝑋𝑡𝑟𝑎𝑖𝑛, 𝑦𝑡𝑟𝑎𝑖𝑛,\n",
    "𝑋𝑡𝑒𝑠𝑡 and 𝑦𝑡𝑒𝑠𝑡 and returns the subset as new matrices 𝑋𝑠𝑢𝑏𝑡𝑟𝑎𝑖𝑛, 𝑦𝑠𝑢𝑏𝑡𝑟𝑎𝑖𝑛, 𝑋𝑠𝑢𝑏𝑡𝑒𝑠𝑡 and 𝑦𝑠𝑢𝑏𝑡𝑒𝑠𝑡.**"
   ]
  },
  {
   "cell_type": "code",
   "execution_count": 8,
   "id": "bf316c99",
   "metadata": {
    "tags": []
   },
   "outputs": [],
   "source": [
    "def select_digit_subset(digit, Xtraindata, ytrainlabels, Xtestdata, ytestlabels):\n",
    "    train_indices = np.where(np.isin(ytrainlabels, digit))[0]\n",
    "    test_indices = np.where(np.isin(ytestlabels, digit))[0]\n",
    "\n",
    "    X_subtrain = Xtraindata[:, train_indices].T\n",
    "    y_subtrain = ytrainlabels[train_indices]\n",
    "    X_subtest = Xtestdata[:, test_indices].T\n",
    "    y_subtest = ytestlabels[test_indices]\n",
    "\n",
    "    return X_subtrain, y_subtrain, X_subtest, y_subtest"
   ]
  },
  {
   "cell_type": "markdown",
   "id": "794c4ed5",
   "metadata": {},
   "source": [
    "***Task 4*: Select the digits 1,8 using step 3, project the data onto 𝑘-PC modes computed in steps 1-2, and apply\n",
    "the Ridge classifier (linear) to distinguish between these two digits. Perform cross-validation and\n",
    "testing.**"
   ]
  },
  {
   "cell_type": "code",
   "execution_count": 9,
   "id": "2c38b95b",
   "metadata": {
    "tags": []
   },
   "outputs": [],
   "source": [
    "from sklearn.linear_model import RidgeClassifier\n",
    "from sklearn.model_selection import cross_val_score\n",
    "from sklearn.preprocessing import StandardScaler\n",
    "\n",
    "selected_digits = [1, 8]\n",
    "X_subtrain, y_subtrain, X_subtest, y_subtest = select_digit_subset(selected_digits, Xtraindata, ytrainlabels, Xtestdata, ytestlabels)\n",
    "\n",
    "# Apply PCA on 59 components\n",
    "pca = PCA(n_components=59)\n",
    "pca_X_subtrain = pca.fit_transform(X_subtrain)\n",
    "pca_X_subtest = pca.fit_transform(X_subtest)\n",
    "\n",
    "# Ridge Classifier\n",
    "ridge_clf = RidgeClassifier()\n",
    "\n",
    "\n",
    "ridge_clf.fit(pca_X_subtrain, y_subtrain)\n",
    "\n",
    "#print(\"Training Score: {}\".format(ridge_clf.score(pca_X_subtrain, y_subtrain)))\n",
    "#print(\"Testing Score: {}\".format(ridge_clf.score(pca_X_subtest, y_subtest)))\n",
    "\n",
    "cv_scores = cross_val_score(ridge_clf, pca_X_subtrain, y_subtrain, cv=5)\n",
    "#print(\"{} accuracy with a standard deviation of {:0.5f}\".format(cv_scores.mean(), cv_scores.std()))"
   ]
  },
  {
   "cell_type": "markdown",
   "id": "69052aec",
   "metadata": {},
   "source": [
    "***Task 5*: Repeat the same classification procedure for pairs of digits 3,8 and 2,7.**"
   ]
  },
  {
   "cell_type": "code",
   "execution_count": null,
   "id": "e1329414",
   "metadata": {
    "tags": []
   },
   "outputs": [],
   "source": [
    "def classify_digit_pair(pair, Xtraindata, ytrainlabels, Xtestdata, ytestlabels):\n",
    "    \n",
    "    selected_digits = pair\n",
    "    X_subtrain, y_subtrain, X_subtest, y_subtest = select_digit_subset(selected_digits, Xtraindata, ytrainlabels, Xtestdata, ytestlabels)\n",
    "    \n",
    "    # Apply PCA on 59 modes\n",
    "    pca = PCA(n_components=59)\n",
    "    pca_X_subtrain = pca.fit_transform(X_subtrain)\n",
    "    pca_X_subtest = pca.transform(X_subtest)\n",
    "    \n",
    "    # Ridge Classifier\n",
    "    ridge_clf = RidgeClassifier()\n",
    "    ridge_clf.fit(pca_X_subtrain, y_subtrain)\n",
    "    \n",
    "    cv_scores = cross_val_score(ridge_clf, pca_X_subtrain, y_subtrain, cv=5)\n",
    "    \n",
    "    # Print\n",
    "    #print(\"Training Score ({} , {}): {}\".format(pair[0], pair[1], ridge_clf.score(pca_X_subtrain, y_subtrain)))\n",
    "    #print(\"Testing Score ({} , {}): {}\".format(pair[0], pair[1], ridge_clf.score(pca_X_subtest, y_subtest)))\n",
    "    \n",
    "   \n",
    "    #print(\"Cross-validation accuracy ({} , {}): {} (std: {:0.5f})\".format(pair[0], pair[1], cv_scores.mean(), cv_scores.std()))\n",
    "\n",
    "# Classify pairs of digits: (3, 8) and (2, 7)\n",
    "classify_digit_pair((3, 8), Xtraindata, ytrainlabels, Xtestdata, ytestlabels)\n",
    "classify_digit_pair((2, 7), Xtraindata, ytrainlabels, Xtestdata, ytestlabels)"
   ]
  },
  {
   "cell_type": "markdown",
   "id": "88dfb25d",
   "metadata": {},
   "source": [
    "\n",
    "\n",
    "***Task 6*: Use all the digits and perform multi-class classification with Ridge, KNN and LDA classifiers.**"
   ]
  },
  {
   "cell_type": "code",
   "execution_count": null,
   "id": "bb670ffb",
   "metadata": {},
   "outputs": [],
   "source": [
    "from sklearn.linear_model import RidgeClassifier\n",
    "from sklearn.discriminant_analysis import LinearDiscriminantAnalysis\n",
    "from sklearn.neighbors import KNeighborsClassifier\n",
    "from sklearn.model_selection import cross_val_score\n",
    "from sklearn.decomposition import PCA\n",
    "from sklearn.preprocessing import StandardScaler\n",
    "\n",
    "#classifiers\n",
    "classifiers = {\n",
    "    \"Ridge Classifier\": RidgeClassifier(),\n",
    "    \"Linear Discriminant Analysis\": LinearDiscriminantAnalysis(),\n",
    "    \"K-Nearest Neighbors\": KNeighborsClassifier()\n",
    "}\n",
    "\n",
    "# Apply PCA on 59 components\n",
    "pca = PCA(n_components=59)\n",
    "pca_X_train = pca.fit_transform(Xtraindata.T)\n",
    "pca_X_test = pca.transform(Xtestdata.T)\n",
    "\n",
    "# Define a range of values for n_neighbors\n",
    "n_neighbors_values = [3, 4, 5]\n",
    "\n",
    "# Loop over classifiers\n",
    "for name, clf in classifiers.items():\n",
    "    if name == \"K-Nearest Neighbors\":\n",
    "        for n_neighbors in n_neighbors_values:\n",
    "            # Apply StandardScaler for KNN classifier\n",
    "            scaler = StandardScaler()\n",
    "            pca_X_train_scaled = scaler.fit_transform(pca_X_train)\n",
    "            pca_X_test_scaled = scaler.transform(pca_X_test)\n",
    "            \n",
    "            clf.set_params(n_neighbors=n_neighbors)\n",
    "            clf.fit(pca_X_train_scaled, ytrainlabels)\n",
    "            \n",
    "            train_score = clf.score(pca_X_train_scaled, ytrainlabels)\n",
    "            test_score = clf.score(pca_X_test_scaled, ytestlabels)\n",
    "            \n",
    "            #print(f\"{name} (n_neighbors={n_neighbors}):\")\n",
    "            #print(\"  Training Score:\", train_score)\n",
    "            #print(\"  Testing Score:\", test_score)\n",
    "            # cross-validation score\n",
    "            cv_scores = cross_val_score(clf, pca_X_train, ytrainlabels, cv=5)\n",
    "            #print(\"  Cross-validation Score:\", cv_scores.mean())\n",
    "    else:\n",
    "       \n",
    "        clf.fit(pca_X_train, ytrainlabels)\n",
    "        # Print\n",
    "        train_score = clf.score(pca_X_train, ytrainlabels)\n",
    "        test_score = clf.score(pca_X_test, ytestlabels)\n",
    "        \n",
    "        #print(f\"{name}:\")\n",
    "        #print(\"  Training Score:\", train_score)\n",
    "        #print(\"  Testing Score:\", test_score)\n",
    "\n",
    "        # cross-validation score\n",
    "        cv_scores = cross_val_score(clf, pca_X_train, ytrainlabels, cv=5)\n",
    "        #print(\"  Cross-validation Score:\", cv_scores.mean())\n"
   ]
  },
  {
   "cell_type": "markdown",
   "id": "2158109f",
   "metadata": {},
   "source": [
    "**confusion matrix for each classifier**"
   ]
  },
  {
   "cell_type": "code",
   "execution_count": 7,
   "id": "b6a6b858",
   "metadata": {},
   "outputs": [],
   "source": [
    "import matplotlib.pyplot as plt\n",
    "from sklearn.metrics import ConfusionMatrixDisplay\n",
    "\n",
    "#fig, axes = plt.subplots(nrows=1, ncols=len(classifiers), figsize=(20, 5))\n",
    "\n",
    "# Loop over classifiers\n",
    "#for ax, (name, clf) in zip(axes, classifiers.items()):\n",
    "    # predictions\n",
    "    #y_pred = clf.predict(pca_X_test)\n",
    "\n",
    "    # Plot confusion matrix\n",
    "    #cm_display = ConfusionMatrixDisplay.from_predictions(y_pred, ytestlabels, ax=ax)\n",
    "\n",
    "    # Set class names for x-axis and y-axis\n",
    "    #classes = ['0', '1', '2', '3', '4', '5', '6', '7', '8', '9']\n",
    "    #cm_display.ax_.set_xticklabels(classes)\n",
    "    #cm_display.ax_.set_yticklabels(classes)\n",
    "\n",
    "    #ax.set_title(f\"Confusion Matrix for {name}\")\n",
    "\n",
    "#plt.tight_layout()\n",
    "#plt.show()\n"
   ]
  },
  {
   "cell_type": "code",
   "execution_count": null,
   "id": "91f824f1",
   "metadata": {},
   "outputs": [],
   "source": []
  },
  {
   "cell_type": "code",
   "execution_count": null,
   "id": "cdc964eb",
   "metadata": {},
   "outputs": [],
   "source": []
  }
 ],
 "metadata": {
  "kernelspec": {
   "display_name": "Python 3 (ipykernel)",
   "language": "python",
   "name": "python3"
  },
  "language_info": {
   "codemirror_mode": {
    "name": "ipython",
    "version": 3
   },
   "file_extension": ".py",
   "mimetype": "text/x-python",
   "name": "python",
   "nbconvert_exporter": "python",
   "pygments_lexer": "ipython3",
   "version": "3.11.3"
  }
 },
 "nbformat": 4,
 "nbformat_minor": 5
}
